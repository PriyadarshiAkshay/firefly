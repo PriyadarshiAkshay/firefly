{
 "cells": [
  {
   "cell_type": "markdown",
   "metadata": {},
   "source": [
    "# firefly\n",
    "A collection of tools to aid the user experience in the use of TransitFit for confirmed TESS targets.\n",
    "#### Installation \n",
    "```bash\n",
    "python setup.py install\n",
    "```\n",
    "\n",
    "#### Dependancies\n",
    "```\n",
    "transitfit\n",
    "python-Levenshtein\n",
    "fuzzywuzzy\n",
    "numpy\n",
    "pandas\n",
    "```\n",
    "#### Description\n",
    "- Targets passed are corrected for basic user input. 'wasp43b' is\n",
    "interpreted as 'WASP-43 b'. List must be of the form given in the example below.\n",
    "- Initial checks for targets from the exoplanet archive are then taken to ascertain \n",
    "whether the prior data extracted has entries in all columns. If there are missing\n",
    "entries for a given target in the list, the user will be asked whether to proceed.\n",
    "- Iteratively takes the targets given and employs TransitFit across each TESS sector \n",
    "for every exoplanet in the list given.\n",
    "- If more than one target is given in a list, multiple cpu's will handle the extra\n",
    "targets in seperate threads. The default for this behaviour is set to a\n",
    "quarter of the maximum cores available to the current process.\n",
    "- All available split curves are fitted with TransitFit, then the results\n",
    "are then zipped up and time stamped. Optionally sends an email upon an error or \n",
    "full completion of a target.\n",
    "- The printing of all but essential output such as exceptions are disabled. \n",
    "If you wish to run the fitting procedure for a list in piecemeal across a \n",
    "single core, set the processess variable to 1 and the list will be worked \n",
    "through one by one. It is advised that you only set the variable printing \n",
    "to True when fitting in this manner. Multiple cores give a chaotic output, \n",
    "and impacts performance.\n",
    "- Email is also disabled by default. If enabled, status updates on completion\n",
    "and exceptions with the full traceback are sent. (Unfinished)\n",
    "\n",
    "Background tasks for feeding data to TransitFit include:\n",
    "- Set the filter path to the TESS Filter.\n",
    "- Download EU/NASA exoplanet archive data every 10 days (checks the file age).\n",
    "- Download MAST lightcurve data for target TESS Sectors.\n",
    "- Split the lightcurves into seperate transits or epochs.\n",
    "- Create the data paths to each seperate epoch.\n",
    "- Run TransitFit.\n",
    "- Delete all downloaded data and inputs.\n",
    "- Zip up and timestamp the output.\n",
    "\n",
    "An example use with TransitFit is the following:"
   ]
  },
  {
   "cell_type": "code",
   "execution_count": null,
   "metadata": {},
   "outputs": [],
   "source": [
    "from firefly import firefly"
   ]
  },
  {
   "cell_type": "markdown",
   "metadata": {},
   "source": [
    "For a single target:"
   ]
  },
  {
   "cell_type": "code",
   "execution_count": null,
   "metadata": {},
   "outputs": [],
   "source": [
    "target = ('WASP-43 b',)\n",
    "firefly(target)"
   ]
  },
  {
   "cell_type": "markdown",
   "metadata": {},
   "source": [
    "For a list of targets:"
   ]
  },
  {
   "cell_type": "code",
   "execution_count": null,
   "metadata": {},
   "outputs": [],
   "source": [
    "targets = ('WASP-43 b', 'WASP-18 b', 'WASP-91 b', 'WASP-12 b',\n",
    "           'WASP-126 b', 'LHS 3844 b', 'GJ 1252 b', 'TOI-270 b')\n",
    "firefly(targets)"
   ]
  },
  {
   "cell_type": "markdown",
   "metadata": {},
   "source": [
    "For a list of random viable tess targets with full prior info:"
   ]
  },
  {
   "cell_type": "code",
   "execution_count": null,
   "metadata": {},
   "outputs": [],
   "source": [
    "from firefly import tess_viable\n",
    "targets = tess_viable(k=10)\n",
    "firefly(targets)"
   ]
  },
  {
   "cell_type": "markdown",
   "metadata": {},
   "source": [
    "To simply use the default fitting settings on a random viable target:"
   ]
  },
  {
   "cell_type": "code",
   "execution_count": null,
   "metadata": {},
   "outputs": [],
   "source": [
    "firefly()"
   ]
  },
  {
   "cell_type": "markdown",
   "metadata": {},
   "source": [
    "The full set of variables are as follows:"
   ]
  },
  {
   "cell_type": "code",
   "execution_count": null,
   "metadata": {},
   "outputs": [],
   "source": [
    "targets = tess_viable(k=10)\n",
    "firefly(\n",
    "    # Firefly Interface\n",
    "    targets, \n",
    "    archive='nasa', \n",
    "    curve_sample=0.01, \n",
    "    email=True,\n",
    "    to=['your.email@gmail.com'], \n",
    "    clean=False,\n",
    "    # TransitFit Variables\n",
    "    cutoff=0.25,\n",
    "    window=2.5,\n",
    "    nlive=300, \n",
    "    fit_ttv=False,\n",
    "    detrending_list=[['nth order', 2]],\n",
    "    dynesty_sample='rslice', \n",
    "    fitting_mode='folded',\n",
    "    limb_darkening_model='quadratic', \n",
    "    ld_fit_method='coupled',\n",
    "    max_batch_parameters=25, \n",
    "    batch_overlap=2, \n",
    "    dlogz=None, \n",
    "    maxiter=None, \n",
    "    maxcall=None, \n",
    "    dynesty_bounding='multi', \n",
    "    normalise=True, \n",
    "    detrend=True\n",
    ")"
   ]
  }
 ],
 "metadata": {
  "kernelspec": {
   "display_name": "Python 3",
   "language": "python",
   "name": "python3"
  },
  "language_info": {
   "codemirror_mode": {
    "name": "ipython",
    "version": 3
   },
   "file_extension": ".py",
   "mimetype": "text/x-python",
   "name": "python",
   "nbconvert_exporter": "python",
   "pygments_lexer": "ipython3",
   "version": "3.9.1"
  }
 },
 "nbformat": 4,
 "nbformat_minor": 4
}
